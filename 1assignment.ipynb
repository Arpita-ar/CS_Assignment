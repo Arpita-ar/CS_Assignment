{
 "cells": [
  {
   "cell_type": "code",
   "execution_count": 1,
   "metadata": {},
   "outputs": [
    {
     "name": "stdout",
     "output_type": "stream",
     "text": [
      "enter a no.: 64759\n",
      "output is:  1\n"
     ]
    }
   ],
   "source": [
    "#question_4\n",
    "\n",
    "x=int(input(\"enter a no.: \"))\n",
    "rem=x%2\n",
    "print(\"output is: \",rem)"
   ]
  },
  {
   "cell_type": "code",
   "execution_count": 3,
   "metadata": {},
   "outputs": [
    {
     "name": "stdout",
     "output_type": "stream",
     "text": [
      "enter number: 3\n",
      "enter numbers: 7\n",
      "enter numbers: 9\n",
      "enter numbers: 5\n",
      "length : 3\n",
      "sum : 21\n",
      "min no : 5\n",
      "max no : 9\n"
     ]
    }
   ],
   "source": [
    "#question_2\n",
    "\n",
    "lst=[]\n",
    "t=int(input(\"enter number: \"))\n",
    "\n",
    "for item in range(1,t+1):\n",
    "    lst.append(int(input(\"enter numbers: \")))\n",
    "lst=tuple(lst)    \n",
    "\n",
    "print('length :',len(lst))\n",
    "print('sum :',sum(lst))\n",
    "print('min no :' ,min(lst))\n",
    "print('max no :',max(lst))"
   ]
  },
  {
   "cell_type": "code",
   "execution_count": 5,
   "metadata": {},
   "outputs": [
    {
     "name": "stdout",
     "output_type": "stream",
     "text": [
      "6\n"
     ]
    }
   ],
   "source": [
    "#question_3\n",
    "\n",
    "a=4\n",
    "i=1\n",
    "mask=(1<<i)\n",
    "num=a^mask\n",
    "print(num)"
   ]
  },
  {
   "cell_type": "code",
   "execution_count": 6,
   "metadata": {},
   "outputs": [
    {
     "name": "stdout",
     "output_type": "stream",
     "text": [
      "enter few interger numbers for the list: 4587676\n",
      "['4', '5', '8', '7', '6', '7', '6']\n",
      "['6', '4', '5', '8', '7']\n"
     ]
    }
   ],
   "source": [
    "#question_1\n",
    "\n",
    "a=list(input(\"enter few interger numbers for the list: \"))\n",
    "print(a)\n",
    "a=list(set(a))\n",
    "print(a)\n",
    "\n"
   ]
  },
  {
   "cell_type": "code",
   "execution_count": 7,
   "metadata": {},
   "outputs": [
    {
     "name": "stdout",
     "output_type": "stream",
     "text": [
      "list before sort [1, 9, 3, 8, 2, 0, 5, 4, 7, 6]\n",
      "list after sort [0, 1, 2, 3, 4, 5, 6, 7, 8, 9]\n"
     ]
    }
   ],
   "source": [
    "#question_5\n",
    "\n",
    "q=[1,9,3,8,2]\n",
    "p=[0,5,4,7,6]\n",
    "l=q+p\n",
    "print('list before sort',l)\n",
    "l.sort()\n",
    "print('list after sort',l)\n"
   ]
  }
 ],
 "metadata": {
  "kernelspec": {
   "display_name": "Python 3",
   "language": "python",
   "name": "python3"
  },
  "language_info": {
   "codemirror_mode": {
    "name": "ipython",
    "version": 3
   },
   "file_extension": ".py",
   "mimetype": "text/x-python",
   "name": "python",
   "nbconvert_exporter": "python",
   "pygments_lexer": "ipython3",
   "version": "3.7.6"
  }
 },
 "nbformat": 4,
 "nbformat_minor": 4
}
